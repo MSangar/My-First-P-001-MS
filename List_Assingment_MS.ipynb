{
 "cells": [
  {
   "cell_type": "code",
   "execution_count": 26,
   "metadata": {},
   "outputs": [
    {
     "name": "stdout",
     "output_type": "stream",
     "text": [
      "['M Sangar', 'Noorullah', 'Fazal Mahmood', 'Edris', 'Yaqoob', 'Masuma', 'Fatema']\n",
      "['M Sangar', 'Noorullah', 'Fazal Mahmood', 'Edris']\n",
      "Fatema\n",
      "['M Sangar', 'Noorullah', 'Fazal Mahmood', 'Edris', 'Yaqoob', 'Masuma']\n"
     ]
    }
   ],
   "source": [
    "# All Staff list\n",
    "staff_list = ['M Sangar' , 'Noorullah' , 'Fazal Mahmood' , 'Edris', 'Yaqoob' , 'Sharif' , 'Fatema']\n",
    "# Technical Staff list\n",
    "tech_staff = staff_list[0:4]\n",
    "# Replaced Staff List\n",
    "staff_list[5] = \"Masuma\"\n",
    "# Resigned Staff List\n",
    "resg_staff = staff_list[6]\n",
    "# Remaining Staff List\n",
    "rem_staff = staff_list[0:6]\n",
    "\n",
    "print(staff_list)\n",
    "print(tech_staff)\n",
    "print(resg_staff)\n",
    "print(rem_staff)\n"
   ]
  },
  {
   "cell_type": "code",
   "execution_count": null,
   "metadata": {},
   "outputs": [],
   "source": []
  }
 ],
 "metadata": {
  "kernelspec": {
   "display_name": "Python 3",
   "language": "python",
   "name": "python3"
  },
  "language_info": {
   "codemirror_mode": {
    "name": "ipython",
    "version": 3
   },
   "file_extension": ".py",
   "mimetype": "text/x-python",
   "name": "python",
   "nbconvert_exporter": "python",
   "pygments_lexer": "ipython3",
   "version": "3.8.5"
  }
 },
 "nbformat": 4,
 "nbformat_minor": 4
}
