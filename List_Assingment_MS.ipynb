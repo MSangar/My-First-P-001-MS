{
 "cells": [
  {
   "cell_type": "code",
   "execution_count": 24,
   "metadata": {},
   "outputs": [
    {
     "name": "stdout",
     "output_type": "stream",
     "text": [
      "['M Sangar', 'Mashal', 'Fazal Mahmood', 'Edris', 'Yaqoob', 'Masuma', 'Fatema']\n",
      "['M Sangar', 'Mashal', 'Fazal Mahmood', 'Edris']\n",
      "Fatema\n",
      "['M Sangar', 'Mashal', 'Fazal Mahmood', 'Edris', 'Yaqoob', 'Masuma']\n"
     ]
    }
   ],
   "source": [
    "staff_list = ['M Sangar' , 'Mashal' , 'Fazal Mahmood' , 'Edris', 'Yaqoob' , 'Sharif' , 'Fatema']\n",
    "tech_staff = staff_list[0:4]\n",
    "staff_list[5] = \"Masuma\"\n",
    "resg_staff = staff_list[6]\n",
    "rem_staff = staff_list[0:6]\n",
    "\n",
    "print(staff_list)\n",
    "print(tech_staff)\n",
    "print(resg_staff)\n",
    "print(rem_staff)\n"
   ]
  },
  {
   "cell_type": "code",
   "execution_count": null,
   "metadata": {},
   "outputs": [],
   "source": []
  }
 ],
 "metadata": {
  "kernelspec": {
   "display_name": "Python 3",
   "language": "python",
   "name": "python3"
  },
  "language_info": {
   "codemirror_mode": {
    "name": "ipython",
    "version": 3
   },
   "file_extension": ".py",
   "mimetype": "text/x-python",
   "name": "python",
   "nbconvert_exporter": "python",
   "pygments_lexer": "ipython3",
   "version": "3.8.5"
  }
 },
 "nbformat": 4,
 "nbformat_minor": 4
}
