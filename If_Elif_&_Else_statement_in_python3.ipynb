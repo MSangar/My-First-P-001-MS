{
 "cells": [
  {
   "cell_type": "code",
   "execution_count": 1,
   "metadata": {},
   "outputs": [],
   "source": [
    "# here we begin to learn about control flow\n",
    "# we often only want certain code to execute when a particular condition has been met.\n",
    "# for example if the month is end (some condition), then I will pay my staff salary (some action).\n",
    "# syntax of an if statement\n",
    "# if some_condition:\n",
    "      #execute some code"
   ]
  },
  {
   "cell_type": "code",
   "execution_count": 5,
   "metadata": {},
   "outputs": [
    {
     "name": "stdout",
     "output_type": "stream",
     "text": [
      "count leave balance\n"
     ]
    }
   ],
   "source": [
    "date = False\n",
    "if date:\n",
    "    print('pay salary')\n",
    "else:\n",
    "    print('count leave balance')\n"
   ]
  },
  {
   "cell_type": "code",
   "execution_count": 13,
   "metadata": {},
   "outputs": [
    {
     "name": "stdout",
     "output_type": "stream",
     "text": [
      "Stop & Pray!\n"
     ]
    }
   ],
   "source": [
    "location = 'Mosque'\n",
    "\n",
    "if location == 'Game zone':\n",
    "    print('Bad location get out of it!')\n",
    "elif location == 'School':\n",
    "    print('Good location stay in it!')\n",
    "elif location == 'Store':\n",
    "    print('Stop and Shop!')\n",
    "elif location == 'Mosque':\n",
    "    print('Stop & Pray!')\n",
    "else:\n",
    "    print('Nothing special!')\n",
    "\n",
    "\n",
    "    "
   ]
  },
  {
   "cell_type": "code",
   "execution_count": 16,
   "metadata": {},
   "outputs": [
    {
     "name": "stdout",
     "output_type": "stream",
     "text": [
      "What is your name Sir!\n"
     ]
    }
   ],
   "source": [
    "name = 'Kalbi'\n",
    "\n",
    "if name == 'Ahmad':\n",
    "    print('Salam Ahmad')\n",
    "elif name == 'Mahmood':\n",
    "    print('Salam Mahmood')\n",
    "else:\n",
    "    print('What is your name Sir!')\n",
    "\n"
   ]
  },
  {
   "cell_type": "code",
   "execution_count": 23,
   "metadata": {},
   "outputs": [
    {
     "name": "stdout",
     "output_type": "stream",
     "text": [
      "Faild with Capital F!\n"
     ]
    }
   ],
   "source": [
    "result = 49\n",
    "\n",
    "if result == 100:\n",
    "    print('Pass with Grade A+!')\n",
    "elif result == 90:\n",
    "    print('Pass with Grade A!')\n",
    "elif result == 80:\n",
    "    print('Pass with Grade B')\n",
    "elif result == 49:\n",
    "    print('Faild with Capital F!')\n",
    "else:\n",
    "    print('Try agin')"
   ]
  },
  {
   "cell_type": "code",
   "execution_count": null,
   "metadata": {},
   "outputs": [],
   "source": []
  }
 ],
 "metadata": {
  "kernelspec": {
   "display_name": "Python 3",
   "language": "python",
   "name": "python3"
  },
  "language_info": {
   "codemirror_mode": {
    "name": "ipython",
    "version": 3
   },
   "file_extension": ".py",
   "mimetype": "text/x-python",
   "name": "python",
   "nbconvert_exporter": "python",
   "pygments_lexer": "ipython3",
   "version": "3.8.5"
  }
 },
 "nbformat": 4,
 "nbformat_minor": 4
}
