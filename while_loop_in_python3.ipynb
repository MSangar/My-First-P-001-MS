{
 "cells": [
  {
   "cell_type": "code",
   "execution_count": null,
   "metadata": {},
   "outputs": [],
   "source": [
    "# while loops will continue to exevute a block of code while some condition remains true."
   ]
  },
  {
   "cell_type": "code",
   "execution_count": 3,
   "metadata": {},
   "outputs": [
    {
     "name": "stdout",
     "output_type": "stream",
     "text": [
      "this is the current value of m 0\n",
      "this is the current value of m 1\n",
      "this is the current value of m 2\n",
      "this is the current value of m 3\n",
      "this is the current value of m 4\n"
     ]
    }
   ],
   "source": [
    "m = 0\n",
    "\n",
    "while m < 5:\n",
    "    print(f'this is the current value of m {m}')\n",
    "    m += 1"
   ]
  },
  {
   "cell_type": "code",
   "execution_count": 4,
   "metadata": {},
   "outputs": [],
   "source": [
    "# break, continue, pass\n",
    "# break: breaks out of the current closesst enclosing loop.\n",
    "# continue: goes to the top of the closest enclosing loop.\n",
    "# pass: does nothing at all, somehow it puase the incomplete code from running"
   ]
  },
  {
   "cell_type": "code",
   "execution_count": 5,
   "metadata": {},
   "outputs": [
    {
     "name": "stdout",
     "output_type": "stream",
     "text": [
      "0\n",
      "1\n"
     ]
    }
   ],
   "source": [
    "k = 0\n",
    "\n",
    "while k < 5:\n",
    "    \n",
    "    if k == 2:\n",
    "        break\n",
    "    print(k)\n",
    "    \n",
    "    k += 1"
   ]
  },
  {
   "cell_type": "code",
   "execution_count": null,
   "metadata": {},
   "outputs": [
    {
     "name": "stdout",
     "output_type": "stream",
     "text": [
      "0\n",
      "1\n",
      "2\n"
     ]
    }
   ],
   "source": [
    "b = 0\n",
    "\n",
    "while b < 7:\n",
    "    \n",
    "    if b == 3:\n",
    "        continue\n",
    "    print(b)\n",
    "    \n",
    "    b += 1"
   ]
  },
  {
   "cell_type": "code",
   "execution_count": 2,
   "metadata": {},
   "outputs": [],
   "source": [
    "c = 0\n",
    "\n",
    "while c > 9:\n",
    "    pass\n",
    "   "
   ]
  },
  {
   "cell_type": "code",
   "execution_count": null,
   "metadata": {},
   "outputs": [],
   "source": []
  }
 ],
 "metadata": {
  "kernelspec": {
   "display_name": "Python 3",
   "language": "python",
   "name": "python3"
  },
  "language_info": {
   "codemirror_mode": {
    "name": "ipython",
    "version": 3
   },
   "file_extension": ".py",
   "mimetype": "text/x-python",
   "name": "python",
   "nbconvert_exporter": "python",
   "pygments_lexer": "ipython3",
   "version": "3.8.5"
  }
 },
 "nbformat": 4,
 "nbformat_minor": 4
}
